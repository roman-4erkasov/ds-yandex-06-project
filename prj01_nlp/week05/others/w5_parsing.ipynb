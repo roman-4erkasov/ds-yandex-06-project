{
 "cells": [
  {
   "cell_type": "code",
   "execution_count": 1,
   "metadata": {},
   "outputs": [],
   "source": [
    "import requests\n",
    "import bs4\n",
    "import codecs"
   ]
  },
  {
   "cell_type": "code",
   "execution_count": 2,
   "metadata": {},
   "outputs": [],
   "source": [
    "req = requests.get('https://en.wikipedia.org/wiki/Bias%E2%80%93variance_tradeoff')"
   ]
  },
  {
   "cell_type": "code",
   "execution_count": 6,
   "metadata": {},
   "outputs": [],
   "source": [
    "parser = bs4.BeautifulSoup(req.text, 'lxml')"
   ]
  },
  {
   "cell_type": "code",
   "execution_count": 21,
   "metadata": {},
   "outputs": [
    {
     "name": "stdout",
     "output_type": "stream",
     "text": [
      "None\n"
     ]
    }
   ],
   "source": [
    "print(parser.find('h2', attrs={'class': 'mw_head_line'}))"
   ]
  },
  {
   "cell_type": "markdown",
   "metadata": {},
   "source": [
    "Заголовок первого уровня h1."
   ]
  },
  {
   "cell_type": "code",
   "execution_count": 34,
   "metadata": {},
   "outputs": [
    {
     "data": {
      "text/plain": [
       "'Bias–variance tradeoff'"
      ]
     },
     "execution_count": 34,
     "metadata": {},
     "output_type": "execute_result"
    }
   ],
   "source": [
    "parser.find('h1').text"
   ]
  },
  {
   "cell_type": "markdown",
   "metadata": {},
   "source": [
    "Слишком легко. Наверное, в задании имелись в виду заголовки h2. Вытащим и их."
   ]
  },
  {
   "cell_type": "code",
   "execution_count": 44,
   "metadata": {},
   "outputs": [
    {
     "data": {
      "text/plain": [
       "[<h2>Contents</h2>,\n",
       " <h2><span class=\"mw-headline\" id=\"Motivation\">Motivation</span><span class=\"mw-editsection\"><span class=\"mw-editsection-bracket\">[</span><a href=\"/w/index.php?title=Bias%E2%80%93variance_tradeoff&amp;action=edit&amp;section=1\" title=\"Edit section: Motivation\">edit</a><span class=\"mw-editsection-bracket\">]</span></span></h2>,\n",
       " <h2><span id=\"Bias.E2.80.93variance_decomposition_of_squared_error\"></span><span class=\"mw-headline\" id=\"Bias–variance_decomposition_of_squared_error\">Bias–variance decomposition of squared error</span><span class=\"mw-editsection\"><span class=\"mw-editsection-bracket\">[</span><a href=\"/w/index.php?title=Bias%E2%80%93variance_tradeoff&amp;action=edit&amp;section=2\" title=\"Edit section: Bias–variance decomposition of squared error\">edit</a><span class=\"mw-editsection-bracket\">]</span></span></h2>,\n",
       " <h2><span class=\"mw-headline\" id=\"Application_to_regression\">Application to regression</span><span class=\"mw-editsection\"><span class=\"mw-editsection-bracket\">[</span><a href=\"/w/index.php?title=Bias%E2%80%93variance_tradeoff&amp;action=edit&amp;section=4\" title=\"Edit section: Application to regression\">edit</a><span class=\"mw-editsection-bracket\">]</span></span></h2>,\n",
       " <h2><span class=\"mw-headline\" id=\"Application_to_classification\">Application to classification</span><span class=\"mw-editsection\"><span class=\"mw-editsection-bracket\">[</span><a href=\"/w/index.php?title=Bias%E2%80%93variance_tradeoff&amp;action=edit&amp;section=5\" title=\"Edit section: Application to classification\">edit</a><span class=\"mw-editsection-bracket\">]</span></span></h2>]"
      ]
     },
     "execution_count": 44,
     "metadata": {},
     "output_type": "execute_result"
    }
   ],
   "source": [
    "parser.find_all('h2')[:5]"
   ]
  },
  {
   "cell_type": "code",
   "execution_count": 79,
   "metadata": {},
   "outputs": [],
   "source": [
    "headers_h2 = []\n",
    "for element in parser.find_all('h2'):\n",
    "    for content in element.contents:\n",
    "        try:\n",
    "            if content.attrs['class'] == ['mw-headline']:\n",
    "                headers_h2.append(content.attrs['id'])\n",
    "        except AttributeError:\n",
    "            continue\n",
    "        except KeyError:\n",
    "            continue "
   ]
  },
  {
   "cell_type": "code",
   "execution_count": 80,
   "metadata": {},
   "outputs": [
    {
     "data": {
      "text/plain": [
       "['Motivation',\n",
       " 'Bias–variance_decomposition_of_squared_error',\n",
       " 'Application_to_regression',\n",
       " 'Application_to_classification',\n",
       " 'Approaches',\n",
       " 'Application_to_human_learning',\n",
       " 'See_also',\n",
       " 'References',\n",
       " 'External_links']"
      ]
     },
     "execution_count": 80,
     "metadata": {},
     "output_type": "execute_result"
    }
   ],
   "source": [
    "headers_h2"
   ]
  },
  {
   "cell_type": "markdown",
   "metadata": {},
   "source": [
    "Вытащим названия всех статей в категории Machine Learning."
   ]
  },
  {
   "cell_type": "code",
   "execution_count": 82,
   "metadata": {},
   "outputs": [],
   "source": [
    "req = requests.get('https://en.wikipedia.org/wiki/Category:Machine_learning_algorithms')\n",
    "parser = bs4.BeautifulSoup(req.text, 'lxml')"
   ]
  },
  {
   "cell_type": "code",
   "execution_count": 180,
   "metadata": {},
   "outputs": [],
   "source": [
    "result = []\n",
    "uls = parser.find_all('ul')\n",
    "for element in uls:\n",
    "    try:\n",
    "        if element.parent.attrs['class'] == ['mw-category-group']:\n",
    "            for element2 in element.contents:\n",
    "                try:\n",
    "                    result.append(element2.text)\n",
    "                except AttributeError:\n",
    "                    continue\n",
    "    except KeyError:\n",
    "        continue"
   ]
  },
  {
   "cell_type": "markdown",
   "metadata": {},
   "source": [
    "Результат парсинга всех статей в категории Machine Learning. "
   ]
  },
  {
   "cell_type": "code",
   "execution_count": 182,
   "metadata": {},
   "outputs": [
    {
     "name": "stdout",
     "output_type": "stream",
     "text": [
      "['Algorithms of Oppression', 'Almeida–Pineda recurrent backpropagation', 'Backpropagation', 'Bootstrap aggregating', 'CN2 algorithm', 'Constructing skill trees', 'Dehaene–Changeux model', 'Diffusion map', 'Dominance-based rough set approach', 'Dynamic time warping', 'Error-driven learning', 'Evolutionary multimodal optimization', 'Expectation–maximization algorithm', 'FastICA', 'Forward–backward algorithm', 'GeneRec', 'Genetic Algorithm for Rule Set Production', 'Growing self-organizing map', 'Hyper basis function network', 'IDistance', 'K-nearest neighbors algorithm', 'Kernel methods for vector output', 'Kernel principal component analysis', 'Leabra', 'Linde–Buzo–Gray algorithm', 'Local outlier factor', 'Logic learning machine', 'LogitBoost', 'Loss functions for classification', 'Manifold alignment', 'Minimum redundancy feature selection', 'Mixture of experts', 'Multiple kernel learning', 'Non-negative matrix factorization', 'Online machine learning', 'Out-of-bag error', 'Prefrontal cortex basal ganglia working memory', 'PVLV', 'Q-learning', 'Quadratic unconstrained binary optimization', 'Query-level feature', 'Quickprop', 'Radial basis function network', 'Randomized weighted majority algorithm', 'Reinforcement learning', 'Repeated incremental pruning to produce error reduction (RIPPER)', 'Rprop', 'Rule-based machine learning', 'Skill chaining', 'Sparse PCA', 'State–action–reward–state–action', 'Stochastic gradient descent', 'Structured kNN', 'T-distributed stochastic neighbor embedding', 'Temporal difference learning', 'Wake-sleep algorithm', 'Weighted majority algorithm (machine learning)']\n"
     ]
    }
   ],
   "source": [
    "print(result)"
   ]
  },
  {
   "cell_type": "code",
   "execution_count": null,
   "metadata": {},
   "outputs": [],
   "source": []
  }
 ],
 "metadata": {
  "kernelspec": {
   "display_name": "Python 3",
   "language": "python",
   "name": "python3"
  },
  "language_info": {
   "codemirror_mode": {
    "name": "ipython",
    "version": 3
   },
   "file_extension": ".py",
   "mimetype": "text/x-python",
   "name": "python",
   "nbconvert_exporter": "python",
   "pygments_lexer": "ipython3",
   "version": "3.6.5"
  }
 },
 "nbformat": 4,
 "nbformat_minor": 2
}
