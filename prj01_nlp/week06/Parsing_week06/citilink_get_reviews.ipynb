{
 "cells": [
  {
   "cell_type": "code",
   "execution_count": 1,
   "metadata": {},
   "outputs": [],
   "source": [
    "import requests\n",
    "import bs4\n",
    "from lxml import etree\n",
    "import pandas as pd\n",
    "import re, json\n",
    "from user_agent import generate_user_agent"
   ]
  },
  {
   "cell_type": "code",
   "execution_count": 12,
   "metadata": {},
   "outputs": [],
   "source": [
    "\n",
    "# main_link = \"https://market.yandex.ru/catalog--mobilnye-telefony/54726/list\"\n",
    "# phones_sel = \"#subcategoryList > div.product_category_list > div >\"\n",
    "#     \" div > div.subcategory-product-item__body > \"\n",
    "#     \"div.product_name.cms_item_panel.subcategory-product-item__info > span > a\"\n",
    "\n",
    "phones_sel = \"div.product_name.cms_item_panel.subcategory-product-item__info > span > a\"\n",
    "\n",
    "links = []\n",
    "for p in range(1,39):\n",
    "    main_link = f\"https://www.citilink.ru/catalog/mobile/cell_phones/?available=1&status=55395790&p={p}\"\n",
    "    req = requests.get(main_link)\n",
    "    parser = bs4.BeautifulSoup(req.text, 'lxml')\n",
    "    for elm in parser.select(phones_sel):\n",
    "        links.append(elm[\"href\"])"
   ]
  },
  {
   "cell_type": "code",
   "execution_count": 15,
   "metadata": {},
   "outputs": [],
   "source": [
    "with open(\"./citilink_links.json\", \"w\") as f:\n",
    "    json.dump(links, f)\n",
    "    "
   ]
  },
  {
   "cell_type": "code",
   "execution_count": 21,
   "metadata": {},
   "outputs": [],
   "source": [
    "def parse_for_reviews(text):\n",
    "    parser = bs4.BeautifulSoup(text, 'lxml')\n",
    "    for review in parser.select(\"div.opinion\"):\n",
    "        adv = review.select_one(\"article > ul:nth-child(2)\")\n",
    "        disadv = review.select_one(\"article > ul:nth-child(4)\")\n",
    "        comments = review.findAll(\"p\")\n",
    "        rating=5\n",
    "        for idx, star in enumerate(review.select(\"div.ratings > span\")):\n",
    "            if \"selected\" in star[\"class\"]:\n",
    "                break\n",
    "            rating-=1\n",
    "        yield {\n",
    "            \"advatages\": adv.get_text() if adv else \"\",\n",
    "            \"disadvatages\": disadv.get_text() if disadv else \"\",\n",
    "            \"comment\": \"\"+\"\\n\".join([e.get_text() for e in comments]),\n",
    "            \"rating\": rating\n",
    "        }"
   ]
  },
  {
   "cell_type": "code",
   "execution_count": 22,
   "metadata": {},
   "outputs": [],
   "source": [
    "results = []\n",
    "for link in set(links):\n",
    "    review_link = link+\"getall-opinion/\"\n",
    "    s = requests.Session()\n",
    "    headers = {\n",
    "        \"Host\": \"www.citilink.ru\",\n",
    "        \"Connection\": \"keep-alive\",\n",
    "        \"X-Requested-With\": \"XMLHttpRequest\",\n",
    "        'User-Agent': generate_user_agent(device_type=\"desktop\", os=('mac', 'linux'))\n",
    "    }\n",
    "    req = requests.post(review_link, headers=headers, timeout=11)\n",
    "    response_obj = json.loads(req.text)\n",
    "    results.extend(list(parse_for_reviews(response_obj[\"html\"])))"
   ]
  },
  {
   "cell_type": "code",
   "execution_count": 24,
   "metadata": {},
   "outputs": [],
   "source": [
    "with open(\"./citilink_reviews.json\", \"w\") as f:\n",
    "    json.dump(results, f)\n",
    "    "
   ]
  },
  {
   "cell_type": "code",
   "execution_count": 25,
   "metadata": {
    "scrolled": true
   },
   "outputs": [
    {
     "data": {
      "text/plain": [
       "1652"
      ]
     },
     "execution_count": 25,
     "metadata": {},
     "output_type": "execute_result"
    }
   ],
   "source": [
    "len(results)"
   ]
  },
  {
   "cell_type": "code",
   "execution_count": null,
   "metadata": {},
   "outputs": [],
   "source": []
  }
 ],
 "metadata": {
  "kernelspec": {
   "display_name": "Python 3",
   "language": "python",
   "name": "python3"
  },
  "language_info": {
   "codemirror_mode": {
    "name": "ipython",
    "version": 3
   },
   "file_extension": ".py",
   "mimetype": "text/x-python",
   "name": "python",
   "nbconvert_exporter": "python",
   "pygments_lexer": "ipython3",
   "version": "3.6.5"
  }
 },
 "nbformat": 4,
 "nbformat_minor": 2
}
