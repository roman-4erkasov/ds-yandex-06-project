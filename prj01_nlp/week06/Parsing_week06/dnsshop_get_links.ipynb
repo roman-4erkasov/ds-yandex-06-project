{
 "cells": [
  {
   "cell_type": "code",
   "execution_count": 1,
   "metadata": {},
   "outputs": [],
   "source": [
    "import requests\n",
    "import bs4\n",
    "from lxml import etree\n",
    "import pandas as pd\n",
    "import re, json"
   ]
  },
  {
   "cell_type": "code",
   "execution_count": 2,
   "metadata": {},
   "outputs": [],
   "source": [
    "comm_link_part = \"https://www.dns-shop.ru/catalog/17a89fea16404e77/sotovye-telefony/?p=\"\n",
    "list_links = [comm_link_part+str(i) for i in range(1,19)]\n",
    "\n",
    "opinion_pages = []\n",
    "\n",
    "page_sel = \"#catalog-items-page > div.page-content-container > div.catalog-category-wrapper > div.catalog-items > div.catalog-items-list.view-list > div > div > div.product-info > div.title > a\"\n",
    "for list_link in list_links[:2]:\n",
    "    req = requests.get(list_link)\n",
    "    parser = bs4.BeautifulSoup(req.text, 'lxml')\n",
    "    for link in parser.select(page_sel):\n",
    "        page_link = \"https://www.dns-shop.ru\"+link.get('href')\n",
    "        opinion_pages.append(page_link+\"opinion/\")        "
   ]
  },
  {
   "cell_type": "code",
   "execution_count": 3,
   "metadata": {},
   "outputs": [],
   "source": [
    "def resolve(link):  \n",
    "  req = requests.get(link)\n",
    "  parser = bs4.BeautifulSoup(req.text)\n",
    "  last_sel = \"li.last > a\"\n",
    "  res = parser.select_one(last_sel)\n",
    "  if res:\n",
    "    last_href = res.get(\"href\")\n",
    "    last = re.findall(string=res.get(\"href\"),pattern=\".*/(\\d+?)/\")\n",
    "    return [link]+[link+str(p) for p in range(2,int(last[0])+2)]\n",
    "  else:\n",
    "    return [link]    \n"
   ]
  },
  {
   "cell_type": "code",
   "execution_count": 5,
   "metadata": {},
   "outputs": [],
   "source": [
    "opinion_pages_ext = [\n",
    "    elm for lst in map(resolve, opinion_pages) for elm in lst\n",
    "]\n"
   ]
  },
  {
   "cell_type": "code",
   "execution_count": 6,
   "metadata": {},
   "outputs": [],
   "source": [
    "with open(\"./links.json\", \"w\") as f:\n",
    "  json.dump(opinion_pages_ext, f, indent=2)"
   ]
  },
  {
   "cell_type": "code",
   "execution_count": 7,
   "metadata": {},
   "outputs": [
    {
     "data": {
      "text/plain": [
       "['https://www.dns-shop.ru/product/ba1170df939b3330/sotovyj-telefon-itel-it2120-cernyj/opinion/',\n",
       " 'https://www.dns-shop.ru/product/beb750784b8d3361/sotovyj-telefon-alcatel-onetouch-ot-1016d-cernyj/opinion/',\n",
       " 'https://www.dns-shop.ru/product/beb750784b8d3361/sotovyj-telefon-alcatel-onetouch-ot-1016d-cernyj/opinion/2',\n",
       " 'https://www.dns-shop.ru/product/beb750784b8d3361/sotovyj-telefon-alcatel-onetouch-ot-1016d-cernyj/opinion/3',\n",
       " 'https://www.dns-shop.ru/product/beb750784b8d3361/sotovyj-telefon-alcatel-onetouch-ot-1016d-cernyj/opinion/4',\n",
       " 'https://www.dns-shop.ru/product/d4ac0a71bf963330/sotovyj-telefon-digma-linx-a242-2g-cernyj/opinion/',\n",
       " 'https://www.dns-shop.ru/product/e7c03b87939b3330/sotovyj-telefon-itel-it2180-cernyj/opinion/',\n",
       " 'https://www.dns-shop.ru/product/d16e89aa39253330/sotovyj-telefon-dexp-larus-s6-cernyj/opinion/',\n",
       " 'https://www.dns-shop.ru/product/967676e8f4dc3330/sotovyj-telefon-texet-tm-121-cernyj/opinion/',\n",
       " 'https://www.dns-shop.ru/product/967676e8f4dc3330/sotovyj-telefon-texet-tm-121-cernyj/opinion/2',\n",
       " 'https://www.dns-shop.ru/product/967676e8f4dc3330/sotovyj-telefon-texet-tm-121-cernyj/opinion/3',\n",
       " 'https://www.dns-shop.ru/product/158e915433223332/sotovyj-telefon-irbis-sf31-cernyj/opinion/',\n",
       " 'https://www.dns-shop.ru/product/99c52bd3019b1b80/sotovyj-telefon-vertex-m120-cernyj/opinion/',\n",
       " 'https://www.dns-shop.ru/product/61c8d6186b303330/sotovyj-telefon-ginzzu-m102d-mini-cernyj/opinion/',\n",
       " 'https://www.dns-shop.ru/product/69f264c6ec691b80/sotovyj-telefon-inoi-100-cernyj/opinion/',\n",
       " 'https://www.dns-shop.ru/product/3177a96e30a23330/sotovyj-telefon-irbis-sf17-krasnyj/opinion/',\n",
       " 'https://www.dns-shop.ru/product/6de2f2f030a23330/sotovyj-telefon-irbis-sf17-sinij/opinion/',\n",
       " 'https://www.dns-shop.ru/product/7f87e425d3523330/sotovyj-telefon-irbis-sf02b-cernyj/opinion/',\n",
       " 'https://www.dns-shop.ru/product/7f87e426d3523330/sotovyj-telefon-irbis-sf02r-cernyj/opinion/',\n",
       " 'https://www.dns-shop.ru/product/7f87e427d3523330/sotovyj-telefon-irbis-sf02x-cernyj/opinion/',\n",
       " 'https://www.dns-shop.ru/product/7156b20d36193330/sotovyj-telefon-joys-s1-cernyj/opinion/',\n",
       " 'https://www.dns-shop.ru/product/51c60179710d3330/sotovyj-telefon-texet-tm-127-cernyj/opinion/',\n",
       " 'https://www.dns-shop.ru/product/04cb9311eb9f1b80/sotovyj-telefon-texet-tm-130-cernyj/opinion/',\n",
       " 'https://www.dns-shop.ru/product/45d27fd8b9203330/sotovyj-telefon-vertex-m110-cernyj/opinion/',\n",
       " 'https://www.dns-shop.ru/product/334d127cba1c3330/sotovyj-telefon-brightquick-bq-1413-start-zeltyj/opinion/',\n",
       " 'https://www.dns-shop.ru/product/2a491f0cba1c3330/sotovyj-telefon-brightquick-bq-1413-start-krasnyj/opinion/',\n",
       " 'https://www.dns-shop.ru/product/083eb2faba1c3330/sotovyj-telefon-brightquick-bq-1413-start-oranzevyj/opinion/',\n",
       " 'https://www.dns-shop.ru/product/129c5da8ba1c3330/sotovyj-telefon-brightquick-bq-1413-start-rozovyj/opinion/',\n",
       " 'https://www.dns-shop.ru/product/f294f0e6ba1b3330/sotovyj-telefon-brightquick-bq-1413-start-seryj/opinion/',\n",
       " 'https://www.dns-shop.ru/product/dbfa5fbcba1b3330/sotovyj-telefon-brightquick-bq-1413-start-cernyj/opinion/',\n",
       " 'https://www.dns-shop.ru/product/106b85a2db141b80/sotovyj-telefon-ark-benefit-u182-cernyj/opinion/',\n",
       " 'https://www.dns-shop.ru/product/6132c87c33223332/sotovyj-telefon-irbis-sf16-goluboj/opinion/',\n",
       " 'https://www.dns-shop.ru/product/51852b9f33223332/sotovyj-telefon-irbis-sf16-zelenyj/opinion/',\n",
       " 'https://www.dns-shop.ru/product/5985356b33223332/sotovyj-telefon-irbis-sf16-krasnyj/opinion/',\n",
       " 'https://www.dns-shop.ru/product/49d0eaca33223332/sotovyj-telefon-irbis-sf16-cernyj/opinion/',\n",
       " 'https://www.dns-shop.ru/product/4ba60aba62133330/sotovyj-telefon-irbis-sf18-cernyj/opinion/',\n",
       " 'https://www.dns-shop.ru/product/2145f990db141b80/sotovyj-telefon-ark-benefit-u182-krasnyj/opinion/',\n",
       " 'https://www.dns-shop.ru/product/ec4a6b97af1b3330/sotovyj-telefon-micromax-x412-sinij/opinion/',\n",
       " 'https://www.dns-shop.ru/product/ab499532ba1a3330/sotovyj-telefon-brightquick-bq-1414-start-krasnyj/opinion/',\n",
       " 'https://www.dns-shop.ru/product/8eed8d1cba1a3330/sotovyj-telefon-brightquick-bq-1414-start-oranzevyj/opinion/',\n",
       " 'https://www.dns-shop.ru/product/98580656ba1a3330/sotovyj-telefon-brightquick-bq-1414-start-rozovyj/opinion/',\n",
       " 'https://www.dns-shop.ru/product/7cac6d6cba1a3330/sotovyj-telefon-brightquick-bq-1414-start-seryj/opinion/',\n",
       " 'https://www.dns-shop.ru/product/97d03086ba193330/sotovyj-telefon-brightquick-bq-1414-start-cernyj/opinion/',\n",
       " 'https://www.dns-shop.ru/product/7b78cef0ba1b3330/sotovyj-telefon-brightquick-bq-1844-one-zeltyj/opinion/',\n",
       " 'https://www.dns-shop.ru/product/6fa720e309f33330/sotovyj-telefon-aceline-fl1-belyj/opinion/',\n",
       " 'https://www.dns-shop.ru/product/6fa720e309f33330/sotovyj-telefon-aceline-fl1-belyj/opinion/2',\n",
       " 'https://www.dns-shop.ru/product/6fa720e309f33330/sotovyj-telefon-aceline-fl1-belyj/opinion/3',\n",
       " 'https://www.dns-shop.ru/product/6fa720e309f33330/sotovyj-telefon-aceline-fl1-belyj/opinion/4',\n",
       " 'https://www.dns-shop.ru/product/6fa720e309f33330/sotovyj-telefon-aceline-fl1-belyj/opinion/5']"
      ]
     },
     "execution_count": 7,
     "metadata": {},
     "output_type": "execute_result"
    }
   ],
   "source": [
    "opinion_pages_ext"
   ]
  },
  {
   "cell_type": "code",
   "execution_count": null,
   "metadata": {},
   "outputs": [],
   "source": []
  }
 ],
 "metadata": {
  "kernelspec": {
   "display_name": "Python 3",
   "language": "python",
   "name": "python3"
  },
  "language_info": {
   "codemirror_mode": {
    "name": "ipython",
    "version": 3
   },
   "file_extension": ".py",
   "mimetype": "text/x-python",
   "name": "python",
   "nbconvert_exporter": "python",
   "pygments_lexer": "ipython3",
   "version": "3.6.5"
  }
 },
 "nbformat": 4,
 "nbformat_minor": 2
}
