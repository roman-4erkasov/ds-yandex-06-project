{
 "cells": [
  {
   "cell_type": "code",
   "execution_count": 1,
   "metadata": {},
   "outputs": [],
   "source": [
    "import requests\n",
    "import bs4\n",
    "from lxml import etree\n",
    "import pandas as pd\n",
    "import re, json\n",
    "from user_agent import generate_user_agent"
   ]
  },
  {
   "cell_type": "code",
   "execution_count": 2,
   "metadata": {},
   "outputs": [],
   "source": [
    "with open(\"./links.json\") as f:\n",
    "    pages = json.load(f)"
   ]
  },
  {
   "cell_type": "code",
   "execution_count": 3,
   "metadata": {},
   "outputs": [],
   "source": [
    "def get_reviews(link):\n",
    "    results = []\n",
    "    headers = {\n",
    "        'User-Agent': generate_user_agent(device_type=\"desktop\", os=('mac', 'linux'))\n",
    "    }\n",
    "    req = requests.get(link)\n",
    "    parser = bs4.BeautifulSoup(req.text, 'lxml')\n",
    "    review_sel = \"#w-opinions-widget > div.opinion-container div.opinion-item\"\n",
    "    rating_sel = \"div.opinion-rating > div\"\n",
    "    adv_sel = \"ul.descriptions-items > li:nth-child(1) > span:nth-child(2)\"\n",
    "    disadv_sel = \"ul.descriptions-items > li:nth-child(2) > span:nth-child(2)\"\n",
    "    comment_sel = \"ul.descriptions-items > li:nth-child(3) > span:nth-child(2)\"\n",
    "\n",
    "    review_list = parser.select(review_sel)\n",
    "    \n",
    "    for review_elm in review_list:\n",
    "        rating = review_elm.select_one(rating_sel)\n",
    "        advantages = review_elm.select_one(adv_sel)\n",
    "        disadvantages = review_elm.select_one(disadv_sel)\n",
    "        comment = review_elm.select_one(comment_sel)\n",
    "        results.append(\n",
    "            {\n",
    "                \"rating\": rating[\"data-rating\"] if rating else None,\n",
    "                \"advantages\": advantages.get_text() if advantages else None,\n",
    "                \"disadvantages\": disadvantages.get_text() if disadvantages else None,\n",
    "                \"comment\": comment.get_text() if comment else None,\n",
    "                \"full_text\": \n",
    "                    (advantages.get_text() if advantages else \"\") +\n",
    "                    (disadvantages.get_text() if disadvantages else \"\") +\n",
    "                    (comment.get_text() if comment else \"\")\n",
    "            }\n",
    "        )\n",
    "    return results"
   ]
  },
  {
   "cell_type": "code",
   "execution_count": 4,
   "metadata": {},
   "outputs": [],
   "source": [
    "results = [\n",
    "    result for page_link in pages for result in get_reviews(page_link)\n",
    "]"
   ]
  },
  {
   "cell_type": "code",
   "execution_count": 63,
   "metadata": {},
   "outputs": [],
   "source": [
    "with open(\"./reviews01.json\", \"w\") as f:\n",
    "    json.dump(results, f)"
   ]
  },
  {
   "cell_type": "code",
   "execution_count": null,
   "metadata": {},
   "outputs": [],
   "source": []
  }
 ],
 "metadata": {
  "kernelspec": {
   "display_name": "Python 3",
   "language": "python",
   "name": "python3"
  },
  "language_info": {
   "codemirror_mode": {
    "name": "ipython",
    "version": 3
   },
   "file_extension": ".py",
   "mimetype": "text/x-python",
   "name": "python",
   "nbconvert_exporter": "python",
   "pygments_lexer": "ipython3",
   "version": "3.6.5"
  }
 },
 "nbformat": 4,
 "nbformat_minor": 2
}
