{
 "cells": [
  {
   "cell_type": "markdown",
   "metadata": {},
   "source": [
    "В этом соревновании вам предстоит прогнозировать по тексту отзыва его тональность: 1 - позитивная, 0 - негативная. В отличие от усложненной версии задачи, здесь вам не требуется самостоятельно собирать обучающую выборку - она есть в предоставляемых вам данных."
   ]
  },
  {
   "cell_type": "code",
   "execution_count": 324,
   "metadata": {},
   "outputs": [],
   "source": [
    "import numpy as np\n",
    "import pandas as pd\n",
    "from sklearn.pipeline import Pipeline\n",
    "from sklearn.feature_extraction.text import TfidfTransformer, CountVectorizer, TfidfVectorizer, HashingVectorizer\n",
    "from sklearn.linear_model import LogisticRegression, SGDClassifier\n",
    "from sklearn.naive_bayes import MultinomialNB\n",
    "from sklearn.decomposition import TruncatedSVD\n",
    "from sklearn.svm import LinearSVC"
   ]
  },
  {
   "cell_type": "code",
   "execution_count": 325,
   "metadata": {},
   "outputs": [],
   "source": [
    "from warnings import filterwarnings\n",
    "filterwarnings('ignore')"
   ]
  },
  {
   "cell_type": "code",
   "execution_count": 326,
   "metadata": {},
   "outputs": [],
   "source": [
    "train = pd.read_csv('products_sentiment_train.tsv', sep='\\t', header=None, names=['Text', 'result']) \n",
    "test = pd.read_csv('products_sentiment_test.tsv', sep='\\t', index_col = ['Id'])"
   ]
  },
  {
   "cell_type": "code",
   "execution_count": 343,
   "metadata": {},
   "outputs": [],
   "source": [
    "def text_classifier(vectorizer, classifier):\n",
    "    return Pipeline([(\"vectorizer\", vectorizer),(\"classifier\", classifier)])"
   ]
  },
  {
   "cell_type": "code",
   "execution_count": 344,
   "metadata": {},
   "outputs": [],
   "source": [
    "def cut_string(v):\n",
    "    return str(v).rsplit('.', 1)[1].replace(\">\", \"\").replace('\\'', '')"
   ]
  },
  {
   "cell_type": "code",
   "execution_count": 329,
   "metadata": {},
   "outputs": [],
   "source": [
    "vect = [TfidfVectorizer, CountVectorizer, HashingVectorizer]\n",
    "classif = [LogisticRegression, MultinomialNB, SGDClassifier, LinearSVC]"
   ]
  },
  {
   "cell_type": "code",
   "execution_count": 330,
   "metadata": {},
   "outputs": [],
   "source": [
    "df = pd.DataFrame(columns=['vectorizer', 'transformer', 'classifier', 'score'])"
   ]
  },
  {
   "cell_type": "code",
   "execution_count": 341,
   "metadata": {
    "scrolled": false
   },
   "outputs": [],
   "source": [
    "i = 0\n",
    "for v in vect:\n",
    "    for c in classif:\n",
    "        i += 1\n",
    "        pipeline = text_classifier(v(ngram_range=(1, 4),stop_words='english', binary=True), c())\n",
    "\n",
    "        a = [round(cross_val_score(pipeline, train.Text, train.result, cv=5).mean(), 4)]\n",
    "        df.loc[i] =  (cut_string(v), 'default', cut_string(c), a)"
   ]
  },
  {
   "cell_type": "code",
   "execution_count": 342,
   "metadata": {},
   "outputs": [
    {
     "data": {
      "text/html": [
       "<div>\n",
       "<style scoped>\n",
       "    .dataframe tbody tr th:only-of-type {\n",
       "        vertical-align: middle;\n",
       "    }\n",
       "\n",
       "    .dataframe tbody tr th {\n",
       "        vertical-align: top;\n",
       "    }\n",
       "\n",
       "    .dataframe thead th {\n",
       "        text-align: right;\n",
       "    }\n",
       "</style>\n",
       "<table border=\"1\" class=\"dataframe\">\n",
       "  <thead>\n",
       "    <tr style=\"text-align: right;\">\n",
       "      <th></th>\n",
       "      <th>vectorizer</th>\n",
       "      <th>transformer</th>\n",
       "      <th>classifier</th>\n",
       "      <th>score</th>\n",
       "    </tr>\n",
       "  </thead>\n",
       "  <tbody>\n",
       "    <tr>\n",
       "      <th>4</th>\n",
       "      <td>TfidfVectorizer</td>\n",
       "      <td>default</td>\n",
       "      <td>LinearSVC</td>\n",
       "      <td>[0.751]</td>\n",
       "    </tr>\n",
       "    <tr>\n",
       "      <th>6</th>\n",
       "      <td>CountVectorizer</td>\n",
       "      <td>default</td>\n",
       "      <td>MultinomialNB</td>\n",
       "      <td>[0.75]</td>\n",
       "    </tr>\n",
       "    <tr>\n",
       "      <th>7</th>\n",
       "      <td>CountVectorizer</td>\n",
       "      <td>default</td>\n",
       "      <td>SGDClassifier</td>\n",
       "      <td>[0.748]</td>\n",
       "    </tr>\n",
       "    <tr>\n",
       "      <th>12</th>\n",
       "      <td>HashingVectorizer</td>\n",
       "      <td>default</td>\n",
       "      <td>LinearSVC</td>\n",
       "      <td>[0.7465]</td>\n",
       "    </tr>\n",
       "    <tr>\n",
       "      <th>5</th>\n",
       "      <td>CountVectorizer</td>\n",
       "      <td>default</td>\n",
       "      <td>LogisticRegression</td>\n",
       "      <td>[0.7405]</td>\n",
       "    </tr>\n",
       "    <tr>\n",
       "      <th>11</th>\n",
       "      <td>HashingVectorizer</td>\n",
       "      <td>default</td>\n",
       "      <td>SGDClassifier</td>\n",
       "      <td>[0.7395]</td>\n",
       "    </tr>\n",
       "    <tr>\n",
       "      <th>3</th>\n",
       "      <td>TfidfVectorizer</td>\n",
       "      <td>default</td>\n",
       "      <td>SGDClassifier</td>\n",
       "      <td>[0.737]</td>\n",
       "    </tr>\n",
       "    <tr>\n",
       "      <th>8</th>\n",
       "      <td>CountVectorizer</td>\n",
       "      <td>default</td>\n",
       "      <td>LinearSVC</td>\n",
       "      <td>[0.7355]</td>\n",
       "    </tr>\n",
       "    <tr>\n",
       "      <th>1</th>\n",
       "      <td>TfidfVectorizer</td>\n",
       "      <td>default</td>\n",
       "      <td>LogisticRegression</td>\n",
       "      <td>[0.702]</td>\n",
       "    </tr>\n",
       "    <tr>\n",
       "      <th>9</th>\n",
       "      <td>HashingVectorizer</td>\n",
       "      <td>default</td>\n",
       "      <td>LogisticRegression</td>\n",
       "      <td>[0.6885]</td>\n",
       "    </tr>\n",
       "    <tr>\n",
       "      <th>2</th>\n",
       "      <td>TfidfVectorizer</td>\n",
       "      <td>default</td>\n",
       "      <td>MultinomialNB</td>\n",
       "      <td>[0.6795]</td>\n",
       "    </tr>\n",
       "    <tr>\n",
       "      <th>10</th>\n",
       "      <td>HashingVectorizer</td>\n",
       "      <td>default</td>\n",
       "      <td>MultinomialNB</td>\n",
       "      <td>[0.647]</td>\n",
       "    </tr>\n",
       "  </tbody>\n",
       "</table>\n",
       "</div>"
      ],
      "text/plain": [
       "           vectorizer transformer          classifier     score\n",
       "4     TfidfVectorizer     default           LinearSVC   [0.751]\n",
       "6     CountVectorizer     default       MultinomialNB    [0.75]\n",
       "7     CountVectorizer     default       SGDClassifier   [0.748]\n",
       "12  HashingVectorizer     default           LinearSVC  [0.7465]\n",
       "5     CountVectorizer     default  LogisticRegression  [0.7405]\n",
       "11  HashingVectorizer     default       SGDClassifier  [0.7395]\n",
       "3     TfidfVectorizer     default       SGDClassifier   [0.737]\n",
       "8     CountVectorizer     default           LinearSVC  [0.7355]\n",
       "1     TfidfVectorizer     default  LogisticRegression   [0.702]\n",
       "9   HashingVectorizer     default  LogisticRegression  [0.6885]\n",
       "2     TfidfVectorizer     default       MultinomialNB  [0.6795]\n",
       "10  HashingVectorizer     default       MultinomialNB   [0.647]"
      ]
     },
     "execution_count": 342,
     "metadata": {},
     "output_type": "execute_result"
    }
   ],
   "source": [
    "df.sort_values(by=['score'], ascending=False)"
   ]
  },
  {
   "cell_type": "code",
   "execution_count": 345,
   "metadata": {},
   "outputs": [],
   "source": [
    "#Вот наш победитель"
   ]
  },
  {
   "cell_type": "code",
   "execution_count": 337,
   "metadata": {},
   "outputs": [],
   "source": [
    "pipeline = text_classifier(HashingVectorizer(ngram_range=(4, 8),stop_words='english', analyzer='char_wb', binary=True),\n",
    "                           LinearSVC())"
   ]
  },
  {
   "cell_type": "code",
   "execution_count": 338,
   "metadata": {},
   "outputs": [],
   "source": [
    "_ = pipeline.fit(train.Text, train.result)"
   ]
  },
  {
   "cell_type": "code",
   "execution_count": 339,
   "metadata": {},
   "outputs": [],
   "source": [
    "test['y'] = pipeline.predict(test.text)"
   ]
  },
  {
   "cell_type": "code",
   "execution_count": 340,
   "metadata": {},
   "outputs": [],
   "source": [
    "test.to_csv(index=True, columns = ['y'], header=True,\n",
    "            path_or_buf='/home/k3di/Coursera_Yandex/Course 6/answer.csv')"
   ]
  },
  {
   "cell_type": "code",
   "execution_count": null,
   "metadata": {},
   "outputs": [],
   "source": []
  }
 ],
 "metadata": {
  "kernelspec": {
   "display_name": "Python 3",
   "language": "python",
   "name": "python3"
  },
  "language_info": {
   "codemirror_mode": {
    "name": "ipython",
    "version": 3
   },
   "file_extension": ".py",
   "mimetype": "text/x-python",
   "name": "python",
   "nbconvert_exporter": "python",
   "pygments_lexer": "ipython3",
   "version": "3.6.7"
  }
 },
 "nbformat": 4,
 "nbformat_minor": 2
}
