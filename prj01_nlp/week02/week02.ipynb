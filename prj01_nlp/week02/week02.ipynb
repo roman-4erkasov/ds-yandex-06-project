{
 "cells": [
  {
   "cell_type": "code",
   "execution_count": 16,
   "metadata": {},
   "outputs": [],
   "source": [
    "import nltk\n",
    "from nltk.corpus import movie_reviews\n",
    "import pandas as pd\n",
    "from sklearn.feature_extraction.text import CountVectorizer, TfidfVectorizer\n",
    "from sklearn.pipeline import Pipeline\n",
    "from sklearn.linear_model import LogisticRegression, SGDClassifier\n",
    "from sklearn.svm import LinearSVC\n",
    "from sklearn.model_selection import cross_val_score\n"
   ]
  },
  {
   "cell_type": "code",
   "execution_count": 6,
   "metadata": {},
   "outputs": [],
   "source": [
    "negids = movie_reviews.fileids('neg')\n",
    "posids = movie_reviews.fileids('pos')\n",
    "\n",
    "negfeats = [movie_reviews.words(fileids=[f]) for f in negids]\n",
    "posfeats = [movie_reviews.words(fileids=[f]) for f in posids]\n",
    "\n",
    "df = pd.DataFrame({\n",
    "    'words': negfeats+posfeats,\n",
    "    'response': len(negfeats)*[0]+len(posfeats)*[1]\n",
    "})\n",
    "\n",
    "X = list(map(\" \".join, df.words))\n",
    "y = df.response\n",
    "\n"
   ]
  },
  {
   "cell_type": "code",
   "execution_count": 4,
   "metadata": {},
   "outputs": [
    {
     "name": "stderr",
     "output_type": "stream",
     "text": [
      "/Users/roman/py3/lib/python3.6/site-packages/sklearn/linear_model/logistic.py:433: FutureWarning: Default solver will be changed to 'lbfgs' in 0.22. Specify a solver to silence this warning.\n",
      "  FutureWarning)\n"
     ]
    },
    {
     "name": "stdout",
     "output_type": "stream",
     "text": [
      "avg=0.841 std=0.01677796173556255\n"
     ]
    }
   ],
   "source": [
    "pipe = Pipeline(\n",
    "    [\n",
    "        ('vec', CountVectorizer()),\n",
    "        ('clf', LogisticRegression())\n",
    "    ]\n",
    ")\n",
    "\n",
    "scores = cross_val_score(pipe, X, y, cv=5)\n",
    "print(f\"avg={scores.mean()} std={scores.std()}\")"
   ]
  },
  {
   "cell_type": "code",
   "execution_count": 6,
   "metadata": {},
   "outputs": [
    {
     "name": "stderr",
     "output_type": "stream",
     "text": [
      "/Users/roman/py3/lib/python3.6/site-packages/sklearn/linear_model/logistic.py:433: FutureWarning: Default solver will be changed to 'lbfgs' in 0.22. Specify a solver to silence this warning.\n",
      "  FutureWarning)\n"
     ]
    },
    {
     "name": "stdout",
     "output_type": "stream",
     "text": [
      "avg=0.8210000000000001 std=0.004062019202317978\n"
     ]
    }
   ],
   "source": [
    "pipe = Pipeline(\n",
    "    [\n",
    "        ('vec', TfidfVectorizer()),\n",
    "        ('clf', LogisticRegression())\n",
    "    ]\n",
    ")\n",
    "\n",
    "scores = cross_val_score(pipe, X, y, cv=5)\n",
    "print(f\"avg={scores.mean()} std={scores.std()}\")"
   ]
  },
  {
   "cell_type": "code",
   "execution_count": 7,
   "metadata": {},
   "outputs": [],
   "source": [
    "with open('answ01.txt','w',encoding=\"utf8\") as f:\n",
    "    f.write(\"0.841 0.01677796173556255 0.8210000000000001 0.004062019202317978\")"
   ]
  },
  {
   "cell_type": "code",
   "execution_count": 8,
   "metadata": {},
   "outputs": [
    {
     "name": "stderr",
     "output_type": "stream",
     "text": [
      "/Users/roman/py3/lib/python3.6/site-packages/sklearn/linear_model/logistic.py:433: FutureWarning: Default solver will be changed to 'lbfgs' in 0.22. Specify a solver to silence this warning.\n",
      "  FutureWarning)\n",
      "/Users/roman/py3/lib/python3.6/site-packages/sklearn/linear_model/logistic.py:433: FutureWarning: Default solver will be changed to 'lbfgs' in 0.22. Specify a solver to silence this warning.\n",
      "  FutureWarning)\n"
     ]
    },
    {
     "name": "stdout",
     "output_type": "stream",
     "text": [
      "score[min_df=10]=0.8390000000000001\n",
      "score[min_df=50]=0.813\n"
     ]
    }
   ],
   "source": [
    "pipe1 = Pipeline(\n",
    "    [\n",
    "        ('vec', CountVectorizer(min_df=10)),\n",
    "        ('clf', LogisticRegression())\n",
    "    ]\n",
    ")\n",
    "\n",
    "pipe2 = Pipeline(\n",
    "    [\n",
    "        ('vec', CountVectorizer(min_df=50)),\n",
    "        ('clf', LogisticRegression())\n",
    "    ]\n",
    ")\n",
    "\n",
    "scores1 = cross_val_score(pipe1, X, y, cv=5)\n",
    "scores2 = cross_val_score(pipe2, X, y, cv=5)\n",
    "print(f\"score[min_df=10]={scores1.mean()}\\nscore[min_df=50]={scores2.mean()}\")"
   ]
  },
  {
   "cell_type": "code",
   "execution_count": 9,
   "metadata": {},
   "outputs": [],
   "source": [
    "with open('answ02.txt','w',encoding=\"utf8\") as f:\n",
    "    f.write(\"0.8390000000000001 0.813\")"
   ]
  },
  {
   "cell_type": "code",
   "execution_count": 12,
   "metadata": {},
   "outputs": [
    {
     "name": "stderr",
     "output_type": "stream",
     "text": [
      "/Users/roman/py3/lib/python3.6/site-packages/sklearn/linear_model/logistic.py:433: FutureWarning: Default solver will be changed to 'lbfgs' in 0.22. Specify a solver to silence this warning.\n",
      "  FutureWarning)\n",
      "/Users/roman/py3/lib/python3.6/site-packages/sklearn/svm/base.py:931: ConvergenceWarning: Liblinear failed to converge, increase the number of iterations.\n",
      "  \"the number of iterations.\", ConvergenceWarning)\n",
      "/Users/roman/py3/lib/python3.6/site-packages/sklearn/linear_model/stochastic_gradient.py:166: FutureWarning: max_iter and tol parameters have been added in SGDClassifier in 0.19. If both are left unset, they default to max_iter=5 and tol=None. If tol is not None, max_iter defaults to max_iter=1000. From 0.21, default max_iter will be 1000, and default tol will be 1e-3.\n",
      "  FutureWarning)\n"
     ]
    },
    {
     "name": "stdout",
     "output_type": "stream",
     "text": [
      "lg=0.841\n",
      "svc=0.8325000000000001\n",
      "sgd=0.7515000000000001\n"
     ]
    }
   ],
   "source": [
    "pipe1 = Pipeline(\n",
    "    [\n",
    "        ('vec', CountVectorizer()),\n",
    "        ('clf', LogisticRegression())\n",
    "    ]\n",
    ")\n",
    "\n",
    "pipe2 = Pipeline(\n",
    "    [\n",
    "        ('vec', CountVectorizer()),\n",
    "        ('clf', LinearSVC())\n",
    "    ]\n",
    ")\n",
    "\n",
    "pipe3 = Pipeline(\n",
    "    [\n",
    "        ('vec', CountVectorizer()),\n",
    "        ('clf', SGDClassifier())\n",
    "    ]\n",
    ")\n",
    "\n",
    "scores1 = cross_val_score(pipe1, X, y, cv=5)\n",
    "scores2 = cross_val_score(pipe2, X, y, cv=5)\n",
    "scores3 = cross_val_score(pipe3, X, y, cv=5)\n",
    "print(f\"lg={scores1.mean()}\\nsvc={scores2.mean()}\\nsgd={scores3.mean()}\")"
   ]
  },
  {
   "cell_type": "code",
   "execution_count": 14,
   "metadata": {},
   "outputs": [],
   "source": [
    "with open('answ03.txt','w',encoding=\"utf8\") as f:\n",
    "    f.write(\"0.7515000000000001\")"
   ]
  },
  {
   "cell_type": "code",
   "execution_count": 20,
   "metadata": {},
   "outputs": [],
   "source": [
    "stopwords = nltk.corpus.stopwords.words('english')"
   ]
  },
  {
   "cell_type": "code",
   "execution_count": 22,
   "metadata": {},
   "outputs": [
    {
     "name": "stderr",
     "output_type": "stream",
     "text": [
      "/Users/roman/py3/lib/python3.6/site-packages/sklearn/linear_model/logistic.py:433: FutureWarning: Default solver will be changed to 'lbfgs' in 0.22. Specify a solver to silence this warning.\n",
      "  FutureWarning)\n",
      "/Users/roman/py3/lib/python3.6/site-packages/sklearn/linear_model/logistic.py:433: FutureWarning: Default solver will be changed to 'lbfgs' in 0.22. Specify a solver to silence this warning.\n",
      "  FutureWarning)\n"
     ]
    },
    {
     "name": "stdout",
     "output_type": "stream",
     "text": [
      "nltk=0.841 sklearn=0.8385\n"
     ]
    }
   ],
   "source": [
    "pipe1 = Pipeline(\n",
    "    [\n",
    "        ('vec', CountVectorizer(stop_words=stopwords)),\n",
    "        ('clf', LogisticRegression())\n",
    "    ]\n",
    ")\n",
    "\n",
    "pipe2 = Pipeline(\n",
    "    [\n",
    "        ('vec', CountVectorizer(stop_words=\"english\")),\n",
    "        ('clf', LogisticRegression())\n",
    "    ]\n",
    ")\n",
    "\n",
    "scores1 = cross_val_score(pipe1, X, y, cv=5)\n",
    "scores2 = cross_val_score(pipe2, X, y, cv=5)\n",
    "print(f\"nltk={scores1.mean()} sklearn={scores2.mean()}\")"
   ]
  },
  {
   "cell_type": "code",
   "execution_count": 23,
   "metadata": {},
   "outputs": [],
   "source": [
    "with open('answ04.txt','w',encoding=\"utf8\") as f:\n",
    "    f.write(\"0.841 0.8385\")"
   ]
  },
  {
   "cell_type": "code",
   "execution_count": 34,
   "metadata": {},
   "outputs": [
    {
     "name": "stderr",
     "output_type": "stream",
     "text": [
      "/Users/roman/py3/lib/python3.6/site-packages/sklearn/linear_model/logistic.py:433: FutureWarning: Default solver will be changed to 'lbfgs' in 0.22. Specify a solver to silence this warning.\n",
      "  FutureWarning)\n",
      "/Users/roman/py3/lib/python3.6/site-packages/sklearn/linear_model/logistic.py:433: FutureWarning: Default solver will be changed to 'lbfgs' in 0.22. Specify a solver to silence this warning.\n",
      "  FutureWarning)\n"
     ]
    },
    {
     "name": "stdout",
     "output_type": "stream",
     "text": [
      "1-2-gram=0.8525 3-5-gram=0.82\n"
     ]
    }
   ],
   "source": [
    "pipe1 = Pipeline(\n",
    "    [\n",
    "        ('vec', CountVectorizer(ngram_range=(1,2))),\n",
    "        ('clf', LogisticRegression())\n",
    "    ]\n",
    ")\n",
    "\n",
    "pipe2 = Pipeline(\n",
    "    [\n",
    "        ('vec', CountVectorizer(ngram_range=(3,5), analyzer='char_wb')),\n",
    "        ('clf', LogisticRegression())\n",
    "    ]\n",
    ")\n",
    "\n",
    "scores1 = cross_val_score(pipe1, X, y, cv=5)\n",
    "scores2 = cross_val_score(pipe2, X, y, cv=5)\n",
    "print(f\"1-2-gram={scores1.mean()} 3-5-gram={scores2.mean()}\")"
   ]
  },
  {
   "cell_type": "code",
   "execution_count": 35,
   "metadata": {},
   "outputs": [],
   "source": [
    "with open('answ05.txt','w',encoding=\"utf8\") as f:\n",
    "    f.write(\"0.8525 0.82\")"
   ]
  },
  {
   "cell_type": "code",
   "execution_count": null,
   "metadata": {},
   "outputs": [],
   "source": []
  }
 ],
 "metadata": {
  "kernelspec": {
   "display_name": "Python 3",
   "language": "python",
   "name": "python3"
  },
  "language_info": {
   "codemirror_mode": {
    "name": "ipython",
    "version": 3
   },
   "file_extension": ".py",
   "mimetype": "text/x-python",
   "name": "python",
   "nbconvert_exporter": "python",
   "pygments_lexer": "ipython3",
   "version": "3.6.5"
  }
 },
 "nbformat": 4,
 "nbformat_minor": 2
}
